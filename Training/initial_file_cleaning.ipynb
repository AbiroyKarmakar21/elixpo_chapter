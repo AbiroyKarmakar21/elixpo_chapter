{
 "cells": [
  {
   "cell_type": "code",
   "execution_count": 11,
   "metadata": {},
   "outputs": [
    {
     "name": "stdout",
     "output_type": "stream",
     "text": [
      "Found 9996 bad rows:\n",
      "(2, '😊🌞 Feeling great today! Ready to take on new challenges! 💪✨,\"[\\'😊\\', \\'🌞\\', \\'💪\\', \\'✨\\']\",2,\"The person is feeling happy and cheerful today, basking in the sunshine, and feels motivated and confident to face new challenges.\",positive,\"[\\'emotion\\', \\'nature\\', \\'motivation\\']\",Feeling great today! Ready to take on new challenges!,daily_status')\n",
      "(3, '😊🌞 Let\\'s enjoy the sunny day! 🌳🏖️,\"[\\'😊\\', \\'🌞\\', \\'🌳\\', \\'🏖️\\']\",4,\"A cheerful person expressing happiness about the sunny weather and looking forward to spending time outdoors in nature, perhaps at the park or beach.\",positive,\"[\\'emotion\\', \\'nature\\', \\'activity\\']\",Let\\'s enjoy the sunny day!,daily_status')\n",
      "(4, 'Had a great day! 😊🌞🎉,\"[\\'😊\\', \\'🌞\\', \\'🎉\\']\",3,\"The person is expressing happiness about their day, mentioning sunshine and celebration.\",positive,\"[\\'emotion\\', \\'nature\\', \\'celebration\\']\",Had a great day!,daily_status')\n",
      "(5, '😊🌞✨ Have a bright and joyful day! 🌻🌈,\"[\\'😊\\', \\'🌞\\', \\'✨\\', \\'🌻\\', \\'🌈\\']\",3,\"Wishing someone a happy, sunny, and cheerful day filled with positivity and beauty.\",positive,\"[\\'emotion\\', \\'nature\\']\",Have a bright and joyful day!,daily_status')\n",
      "(6, '😊🌞 Feeling happy and energized today! Ready to take on new challenges. 🚀✨,\"[\\'😊\\', \\'🌞\\', \\'🚀\\', \\'✨\\']\",2,\"The message expresses a joyful and positive mood, highlighting enthusiasm and motivation for upcoming tasks or challenges.\",positive,\"[\\'emotion\\', \\'nature\\', \\'activity\\']\",Feeling happy and energized today! Ready to take on new challenges.,daily_status')\n"
     ]
    }
   ],
   "source": [
    "bad_rows = []\n",
    "with open(\"data.csv\", \"r\", encoding=\"utf-8\") as f:\n",
    "    header = f.readline()\n",
    "    expected_columns = len(header.strip().split(\",\"))\n",
    "    for i, line in enumerate(f, start=2):  # start=2 because header is line 1\n",
    "        if len(line.strip().split(\",\")) != expected_columns:\n",
    "            bad_rows.append((i, line.strip()))\n",
    "\n",
    "print(f\"Found {len(bad_rows)} bad rows:\")\n",
    "for row in bad_rows[:5]:  # show only first 5 for brevity\n",
    "    print(row)\n"
   ]
  },
  {
   "cell_type": "markdown",
   "metadata": {},
   "source": [
    "# Cleaning for unnecessary \",\" in rows"
   ]
  },
  {
   "cell_type": "code",
   "execution_count": 20,
   "metadata": {},
   "outputs": [
    {
     "name": "stdout",
     "output_type": "stream",
     "text": [
      "Skipping malformed row 399: found 15 fields\n",
      "✅ Cleaning done. Output written to 'cleaned_strict.csv'\n"
     ]
    }
   ],
   "source": [
    "import csv\n",
    "import re\n",
    "\n",
    "def smart_split_line(line):\n",
    "    # Start with comma splitting, but only keep commas outside of quotes and brackets\n",
    "    parts = []\n",
    "    buffer = \"\"\n",
    "    in_quotes = False\n",
    "    bracket_depth = 0\n",
    "\n",
    "    for c in line:\n",
    "        if c == '\"' and (not buffer or buffer[-1] != '\\\\'):\n",
    "            in_quotes = not in_quotes\n",
    "        elif c == \"[\":\n",
    "            bracket_depth += 1\n",
    "        elif c == \"]\":\n",
    "            bracket_depth -= 1\n",
    "\n",
    "        if c == \",\" and not in_quotes and bracket_depth == 0:\n",
    "            parts.append(buffer)\n",
    "            buffer = \"\"\n",
    "        else:\n",
    "            buffer += c\n",
    "\n",
    "    parts.append(buffer)  # last part\n",
    "    return parts\n",
    "\n",
    "def clean_commas(text):\n",
    "    if not text:\n",
    "        return text\n",
    "    return text.replace(\",\", \"\")  # remove internal commas\n",
    "\n",
    "input_file = \"data.csv\"\n",
    "output_file = \"cleaned_strict.csv\"\n",
    "\n",
    "with open(input_file, \"r\", encoding=\"utf-8\") as infile, open(output_file, \"w\", newline='', encoding=\"utf-8\") as outfile:\n",
    "    writer = csv.writer(outfile)\n",
    "    header_written = False\n",
    "\n",
    "    for i, line in enumerate(infile):\n",
    "        line = line.strip()\n",
    "        if not line:\n",
    "            continue\n",
    "\n",
    "        parts = smart_split_line(line)\n",
    "\n",
    "        if len(parts) != 8:\n",
    "            print(f\"Skipping malformed row {i}: found {len(parts)} fields\")\n",
    "            continue\n",
    "\n",
    "        # Clean internal commas from specific columns\n",
    "        parts[0] = clean_commas(parts[0])  # original_message\n",
    "        parts[3] = clean_commas(parts[3])  # translated_meaning\n",
    "        parts[6] = clean_commas(parts[6])  # target_text\n",
    "\n",
    "        if not header_written:\n",
    "            writer.writerow([\"original_message\", \"emoji_used\", \"emoji_context_window\", \"translated_meaning\",\n",
    "                             \"sentiment_detected\", \"emoji_category\", \"target_text\", \"message_type\"])\n",
    "            header_written = True\n",
    "\n",
    "        writer.writerow(parts)\n",
    "\n",
    "print(\"✅ Cleaning done. Output written to 'cleaned_strict.csv'\")\n"
   ]
  },
  {
   "cell_type": "markdown",
   "metadata": {},
   "source": [
    "# Cleaning Each Emoji Array to be a string"
   ]
  },
  {
   "cell_type": "code",
   "execution_count": 34,
   "metadata": {},
   "outputs": [
    {
     "name": "stdout",
     "output_type": "stream",
     "text": [
      "✅ Done. Saved fixed rows in 'cleaned_strict_emojies.csv'\n"
     ]
    }
   ],
   "source": [
    "import csv\n",
    "\n",
    "input_file = \"cleaned_strict.csv\"\n",
    "output_file = \"cleaned_strict_emojies.csv\"\n",
    "\n",
    "def fix_split_emojis(row):\n",
    "    new_row = []\n",
    "    in_emoji_block = False\n",
    "    emoji_tokens = []\n",
    "\n",
    "    for item in row:\n",
    "        # Start of emoji block\n",
    "        if not in_emoji_block and \"[\" in item:\n",
    "            in_emoji_block = True\n",
    "            emoji_tokens.append(item)\n",
    "        elif in_emoji_block:\n",
    "            emoji_tokens.append(item)\n",
    "            if \"]\" in item:\n",
    "                # End of emoji block\n",
    "                in_emoji_block = False\n",
    "                combined = \",\".join(emoji_tokens)\n",
    "                emojis_str = combined[combined.index(\"[\")+1:combined.index(\"]\")]\n",
    "                emojis = [e.strip(\" '\") for e in emojis_str.split(\",\")]\n",
    "                new_row.append(\"-\".join(emojis))\n",
    "                emoji_tokens = []\n",
    "        else:\n",
    "            new_row.append(item)\n",
    "    \n",
    "    return new_row\n",
    "\n",
    "# Process the file\n",
    "with open(input_file, 'r', encoding='utf-8') as infile, open(output_file, 'w', newline='', encoding='utf-8') as outfile:\n",
    "    reader = csv.reader(infile)\n",
    "    writer = csv.writer(outfile)\n",
    "\n",
    "    header = next(reader)\n",
    "    writer.writerow(header)\n",
    "\n",
    "    for row in reader:\n",
    "        fixed_row = fix_split_emojis(row)\n",
    "        writer.writerow(fixed_row)\n",
    "\n",
    "print(\"✅ Done. Saved fixed rows in 'cleaned_strict_emojies.csv'\")\n"
   ]
  },
  {
   "cell_type": "markdown",
   "metadata": {},
   "source": [
    "# Checking for data-structure integrity"
   ]
  },
  {
   "cell_type": "code",
   "execution_count": 36,
   "metadata": {},
   "outputs": [
    {
     "name": "stdout",
     "output_type": "stream",
     "text": [
      "✅ All rows match the expected structure of 8 columns.\n"
     ]
    }
   ],
   "source": [
    "import csv\n",
    "\n",
    "input_file = \"strict_data.csv\"\n",
    "expected_columns = 8\n",
    "\n",
    "malformed_rows = []\n",
    "\n",
    "with open(input_file, 'r', encoding='utf-8') as f:\n",
    "    reader = csv.reader(f)\n",
    "    header = next(reader)\n",
    "    \n",
    "    for i, row in enumerate(reader, start=2):  # start=2 to count header as line 1\n",
    "        if len(row) != expected_columns:\n",
    "            malformed_rows.append((i, len(row), row))\n",
    "\n",
    "# Report\n",
    "if malformed_rows:\n",
    "    print(f\"❌ Found {len(malformed_rows)} malformed rows:\\n\")\n",
    "    for line_num, col_count, row in malformed_rows[:5]:  # Show first 5 examples\n",
    "        print(f\"  - Line {line_num}: has {col_count} columns → {row}\")\n",
    "    if len(malformed_rows) > 5:\n",
    "        print(f\"\\n  ...and {len(malformed_rows) - 5} more rows with incorrect column count.\")\n",
    "else:\n",
    "    print(\"✅ All rows match the expected structure of 8 columns.\")\n"
   ]
  },
  {
   "cell_type": "markdown",
   "metadata": {},
   "source": [
    "# Checking if the target_message has correct format"
   ]
  },
  {
   "cell_type": "code",
   "execution_count": 1,
   "metadata": {},
   "outputs": [
    {
     "name": "stdout",
     "output_type": "stream",
     "text": [
      "✅ All 'target_text' entries are emoji-free.\n"
     ]
    }
   ],
   "source": [
    "import csv\n",
    "import re\n",
    "\n",
    "def contains_emoji(text):\n",
    "    emoji_pattern = re.compile(\n",
    "        \"[\\U0001F600-\\U0001F64F\"  # emoticons\n",
    "        \"\\U0001F300-\\U0001F5FF\"  # symbols & pictographs\n",
    "        \"\\U0001F680-\\U0001F6FF\"  # transport & map\n",
    "        \"\\U0001F1E0-\\U0001F1FF\"  # flags (iOS)\n",
    "        \"\\U00002700-\\U000027BF\"  # Dingbats\n",
    "        \"\\U000024C2-\\U0001F251\"  # Enclosed characters\n",
    "        \"]+\", flags=re.UNICODE)\n",
    "    return bool(emoji_pattern.search(text))\n",
    "\n",
    "input_file = \"final.csv\"\n",
    "emoji_in_target_text = []\n",
    "\n",
    "with open(input_file, 'r', encoding='utf-8') as f:\n",
    "    reader = csv.reader(f)\n",
    "    header = next(reader)\n",
    "    \n",
    "    if \"target_text\" not in header:\n",
    "        raise ValueError(\"Header must include 'target_text'\")\n",
    "\n",
    "    target_idx = header.index(\"target_text\")\n",
    "    \n",
    "    for i, row in enumerate(reader, start=2):\n",
    "        if len(row) <= target_idx:\n",
    "            continue\n",
    "        target_text = row[target_idx]\n",
    "        if contains_emoji(target_text):\n",
    "            emoji_in_target_text.append((i, target_text))\n",
    "\n",
    "# Report\n",
    "if emoji_in_target_text:\n",
    "    print(f\"❌ Found {len(emoji_in_target_text)} rows with emojis in 'target_text':\\n\")\n",
    "    for line_num, text in emoji_in_target_text[:5]:\n",
    "        print(f\"  - Line {line_num}: {text}\")\n",
    "    if len(emoji_in_target_text) > 5:\n",
    "        print(f\"\\n  ...and {len(emoji_in_target_text) - 5} more rows.\")\n",
    "else:\n",
    "    print(\"✅ All 'target_text' entries are emoji-free.\")\n"
   ]
  }
 ],
 "metadata": {
  "kernelspec": {
   "display_name": "Python 3",
   "language": "python",
   "name": "python3"
  },
  "language_info": {
   "codemirror_mode": {
    "name": "ipython",
    "version": 3
   },
   "file_extension": ".py",
   "mimetype": "text/x-python",
   "name": "python",
   "nbconvert_exporter": "python",
   "pygments_lexer": "ipython3",
   "version": "3.12.4"
  }
 },
 "nbformat": 4,
 "nbformat_minor": 2
}
